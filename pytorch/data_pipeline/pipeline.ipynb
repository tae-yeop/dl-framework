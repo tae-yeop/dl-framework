{
 "cells": [
  {
   "cell_type": "code",
   "execution_count": null,
   "metadata": {},
   "outputs": [],
   "source": [
    "from torch.utils.data import DataLoader, DistributedSampler\n",
    "from torchvision import datasets, transforms\n",
    "from typing import Tuple"
   ]
  },
  {
   "cell_type": "code",
   "execution_count": null,
   "metadata": {},
   "outputs": [],
   "source": [
    "def create_data_loaders(rank, world_size, batch_size) -> Tuple[DataLoader, DataLoader]:\n",
    "  transform = transforms.Compose([transforms.ToTensor(),\n",
    "                                  transforms.Normalize((0.1307,), (0.3081,))])\n",
    "  dataset_loc = './mnist_data'\n",
    "\n",
    "  train_dataset = datasets.MNIST(dataset_loc, download=True, train=True,\n",
    "                                 transform=transform)\n",
    "\n",
    "  sampler = DistributedSampler(train_dataset, \n",
    "                               num_replicas=world_size, # <-- world size만큼\n",
    "                               rank=rank, # <-- 보통 0번째 device의 rank가 들어감\n",
    "                               shuffle=True, # <-Must be True\n",
    "                               seed=42)\n",
    "  train_loader = DataLoader(train_dataset,\n",
    "                            batch_size=batch_size, \n",
    "                            shuffle=False, # <- Must be False\n",
    "                            num_workers=4,\n",
    "                            sampler=sampler,\n",
    "                            pin_memory=True)\n",
    "\n",
    "  # test와 val은 distrbuted가 필요하지 않다.\n",
    "  test_dataset = datasets.MNIST(dataset_loc,\n",
    "                                download=True,\n",
    "                                train=False,\n",
    "                                transform=transform)\n",
    "  test_loader = DataLoader(test_dataset,\n",
    "                           batch_size = batch_size,\n",
    "                           shuffle=True,\n",
    "                           num_workers=4,\n",
    "                           pin_memory=True)\n",
    "  return train_loader, test_loader"
   ]
  }
 ],
 "metadata": {
  "kernelspec": {
   "display_name": "Python 3.7.13 ('vag')",
   "language": "python",
   "name": "python3"
  },
  "language_info": {
   "name": "python",
   "version": "3.7.13"
  },
  "orig_nbformat": 4,
  "vscode": {
   "interpreter": {
    "hash": "9c9a6e66d146030964204c6b7575407ad5aeab77a6ffd2e14a53c713f722893a"
   }
  }
 },
 "nbformat": 4,
 "nbformat_minor": 2
}
