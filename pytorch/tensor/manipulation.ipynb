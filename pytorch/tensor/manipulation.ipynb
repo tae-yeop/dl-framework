{
 "cells": [
  {
   "cell_type": "code",
   "execution_count": 2,
   "metadata": {},
   "outputs": [],
   "source": [
    "import torch\n",
    "import lovely_tensors as lt\n",
    "lt.monkey_patch()"
   ]
  },
  {
   "cell_type": "code",
   "execution_count": 3,
   "metadata": {},
   "outputs": [
    {
     "data": {
      "text/plain": [
       "tensor[2, 3] n=6 x∈[1.000, 10.000] μ=4.500 σ=4.037 [[6.000, 1.000, 1.000], [8.000, 1.000, 10.000]]"
      ]
     },
     "execution_count": 3,
     "metadata": {},
     "output_type": "execute_result"
    }
   ],
   "source": [
    "m = torch.tensor([[6,5,7,],[8, 3, 10]])\n",
    "n = torch.ones(2, 3)\n",
    "\n",
    "torch.where(m%2 == 0, m, n)"
   ]
  },
  {
   "cell_type": "code",
   "execution_count": 11,
   "metadata": {},
   "outputs": [
    {
     "data": {
      "text/plain": [
       "tensor[10, 1] x∈[-1.291, 1.682] μ=0.033 σ=0.916 [[-0.153], [1.070], [-0.483], [-0.394], [0.072], [0.863], [1.682], [-1.291], [-0.853], [-0.181]]\n",
       "tensor([[-0.1531],\n",
       "        [ 1.0700],\n",
       "        [-0.4833],\n",
       "        [-0.3945],\n",
       "        [ 0.0723],\n",
       "        [ 0.8632],\n",
       "        [ 1.6818],\n",
       "        [-1.2905],\n",
       "        [-0.8531],\n",
       "        [-0.1811]])"
      ]
     },
     "execution_count": 11,
     "metadata": {},
     "output_type": "execute_result"
    }
   ],
   "source": [
    "m = torch.randn((10, 1))\n",
    "m.v"
   ]
  },
  {
   "cell_type": "code",
   "execution_count": 12,
   "metadata": {},
   "outputs": [
    {
     "data": {
      "text/plain": [
       "tensor[10, 1] bool x∈[False, True] μ=0.200 σ=0.422 [[False], [False], [False], [False], [True], [True], [False], [False], [False], [False]]"
      ]
     },
     "execution_count": 12,
     "metadata": {},
     "output_type": "execute_result"
    }
   ],
   "source": [
    "(m>=0) & (m<=1)"
   ]
  },
  {
   "cell_type": "code",
   "execution_count": 14,
   "metadata": {},
   "outputs": [
    {
     "name": "stdout",
     "output_type": "stream",
     "text": [
      "tensor[6] i64 x∈[0, 5] μ=2.500 σ=1.871 [0, 1, 2, 3, 4, 5]\n"
     ]
    }
   ],
   "source": [
    "targets = torch.tensor([-1,0,1,2,3,4,5,6])\n",
    "mask = torch.logical_and(targets >= 0, targets <= 5) # == [0,1,1,1,1,1,0]\n",
    "\n",
    "print(targets[mask]) # [0,1,2,3,4,5]"
   ]
  },
  {
   "cell_type": "code",
   "execution_count": 15,
   "metadata": {},
   "outputs": [
    {
     "data": {
      "text/plain": [
       "tensor[2] i64 μ=4.500 σ=2.121 [3, 6]"
      ]
     },
     "execution_count": 15,
     "metadata": {},
     "output_type": "execute_result"
    }
   ],
   "source": [
    "test = torch.tensor([[1,2,3], [4,5,6]])\n",
    "test.select(dim=1, index=2)"
   ]
  },
  {
   "cell_type": "code",
   "execution_count": 21,
   "metadata": {},
   "outputs": [
    {
     "data": {
      "text/plain": [
       "torch.int64"
      ]
     },
     "execution_count": 21,
     "metadata": {},
     "output_type": "execute_result"
    }
   ],
   "source": [
    "torch.tensor([1,2,3,4]).to(dtype=torch.long).dtype"
   ]
  },
  {
   "cell_type": "code",
   "execution_count": 35,
   "metadata": {},
   "outputs": [],
   "source": [
    "s = torch.randn(4,5)\n",
    "t = torch.zeros_like(s)\n",
    "t.requires_grad = True # 이게 False이면 s.requires_Grad도 False가 된다. \n",
    "t.grad = torch.randn(4,5)"
   ]
  },
  {
   "cell_type": "code",
   "execution_count": 36,
   "metadata": {},
   "outputs": [
    {
     "name": "stdout",
     "output_type": "stream",
     "text": [
      "tensor[4, 5] n=20 x∈[-1.877, 1.348] μ=-0.169 σ=0.952\n",
      "77876096 None False\n"
     ]
    }
   ],
   "source": [
    "print(s)\n",
    "print(s.data_ptr(), s.grad, s.requires_grad)"
   ]
  },
  {
   "cell_type": "code",
   "execution_count": 37,
   "metadata": {},
   "outputs": [
    {
     "name": "stdout",
     "output_type": "stream",
     "text": [
      "77876096 None True\n"
     ]
    }
   ],
   "source": [
    "s.copy_(t)\n",
    "print(s.data_ptr(), s.grad, s.requires_grad)"
   ]
  },
  {
   "cell_type": "code",
   "execution_count": 39,
   "metadata": {},
   "outputs": [
    {
     "data": {
      "text/plain": [
       "tensor[3, 5] n=15 x∈[0., 1.000] μ=0.333 σ=0.488\n",
       "tensor([[1., 0., 0., 1., 1.],\n",
       "        [0., 1., 0., 0., 0.],\n",
       "        [0., 0., 1., 0., 0.]])"
      ]
     },
     "execution_count": 39,
     "metadata": {},
     "output_type": "execute_result"
    }
   ],
   "source": [
    "src = torch.ones((2,5))\n",
    "index = torch.tensor([[0, 1, 2, 0, 0]])\n",
    "torch.zeros(3,5, dtype=src.dtype).scatter_add_(0, index, src).v"
   ]
  },
  {
   "cell_type": "code",
   "execution_count": null,
   "metadata": {},
   "outputs": [],
   "source": []
  }
 ],
 "metadata": {
  "kernelspec": {
   "display_name": "3dfm",
   "language": "python",
   "name": "python3"
  },
  "language_info": {
   "codemirror_mode": {
    "name": "ipython",
    "version": 3
   },
   "file_extension": ".py",
   "mimetype": "text/x-python",
   "name": "python",
   "nbconvert_exporter": "python",
   "pygments_lexer": "ipython3",
   "version": "3.8.15"
  },
  "orig_nbformat": 4
 },
 "nbformat": 4,
 "nbformat_minor": 2
}
