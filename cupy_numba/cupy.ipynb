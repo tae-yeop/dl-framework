{
 "cells": [
  {
   "cell_type": "code",
   "execution_count": 1,
   "metadata": {},
   "outputs": [],
   "source": [
    "import numpy as np\n",
    "\n",
    "# Construct an image with repeated delta functions\n",
    "deltas = np.zeros((2048, 2048))\n",
    "deltas[8::16,8::16] = 1"
   ]
  },
  {
   "cell_type": "code",
   "execution_count": 2,
   "metadata": {},
   "outputs": [
    {
     "data": {
      "text/plain": [
       "array([[0., 0., 0., ..., 0., 0., 0.],\n",
       "       [0., 0., 0., ..., 0., 0., 0.],\n",
       "       [0., 0., 0., ..., 0., 0., 0.],\n",
       "       ...,\n",
       "       [0., 0., 0., ..., 0., 0., 0.],\n",
       "       [0., 0., 0., ..., 0., 0., 0.],\n",
       "       [0., 0., 0., ..., 0., 0., 0.]])"
      ]
     },
     "execution_count": 2,
     "metadata": {},
     "output_type": "execute_result"
    }
   ],
   "source": [
    "deltas"
   ]
  },
  {
   "cell_type": "code",
   "execution_count": 3,
   "metadata": {},
   "outputs": [
    {
     "data": {
      "image/png": "[encoded data removed]",
      "text/plain": [
       "<Figure size 432x288 with 1 Axes>"
      ]
     },
     "metadata": {
      "needs_background": "light"
     },
     "output_type": "display_data"
    }
   ],
   "source": [
    "import pylab as pyl\n",
    "# Necessary command to render a matplotlib image in a Jupyter notebook.\n",
    "%matplotlib inline\n",
    "\n",
    "# Display the image\n",
    "# You can zoom in using the menu in the window that will appear\n",
    "pyl.imshow(deltas[0:32, 0:32])\n",
    "pyl.show()"
   ]
  },
  {
   "cell_type": "code",
   "execution_count": 4,
   "metadata": {},
   "outputs": [
    {
     "data": {
      "image/png": "[encoded data removed]",
      "text/plain": [
       "<Figure size 432x288 with 1 Axes>"
      ]
     },
     "metadata": {
      "needs_background": "light"
     },
     "output_type": "display_data"
    }
   ],
   "source": [
    "x, y = np.meshgrid(np.linspace(-2, 2, 15), np.linspace(-2, 2, 15))\n",
    "dst = np.sqrt(x*x + y*y)\n",
    "sigma = 1\n",
    "muu = 0.000\n",
    "gauss = np.exp(-((dst-muu)**2/(2.0 * sigma**2)))\n",
    "pyl.imshow(gauss)\n",
    "pyl.show()"
   ]
  },
  {
   "cell_type": "code",
   "execution_count": 5,
   "metadata": {},
   "outputs": [
    {
     "data": {
      "image/png": "[encoded data removed]",
      "text/plain": [
       "<Figure size 432x288 with 1 Axes>"
      ]
     },
     "metadata": {
      "needs_background": "light"
     },
     "output_type": "display_data"
    },
    {
     "name": "stdout",
     "output_type": "stream",
     "text": [
      "1.72 s ± 0 ns per loop (mean ± std. dev. of 1 run, 1 loop each)\n"
     ]
    }
   ],
   "source": [
    "from scipy.signal import convolve2d as convolve2d_cpu\n",
    "\n",
    "convolved_image_using_CPU = convolve2d_cpu(deltas, gauss)\n",
    "pyl.imshow(convolved_image_using_CPU[0:32, 0:32])\n",
    "pyl.show()\n",
    "%timeit -n 1 -r 1 convolve2d_cpu(deltas, gauss)"
   ]
  },
  {
   "cell_type": "code",
   "execution_count": 6,
   "metadata": {},
   "outputs": [],
   "source": [
    "import cupy as cp\n",
    "\n",
    "deltas_gpu = cp.asarray(deltas)\n",
    "gauss_gpu = cp.asarray(gauss)"
   ]
  },
  {
   "cell_type": "code",
   "execution_count": 9,
   "metadata": {},
   "outputs": [
    {
     "data": {
      "text/plain": [
       "<CUDA Device 0>"
      ]
     },
     "execution_count": 9,
     "metadata": {},
     "output_type": "execute_result"
    }
   ],
   "source": [
    "deltas_gpu.device"
   ]
  },
  {
   "cell_type": "code",
   "execution_count": 7,
   "metadata": {},
   "outputs": [
    {
     "name": "stdout",
     "output_type": "stream",
     "text": [
      "136 µs ± 0 ns per loop (mean ± std. dev. of 1 run, 7 loops each)\n"
     ]
    }
   ],
   "source": [
    "from cupyx.scipy.signal import convolve2d as convolve2d_gpu\n",
    "\n",
    "convolved_image_using_GPU = convolve2d_gpu(deltas_gpu, gauss_gpu)\n",
    "%timeit -n 7 -r 1 convolved_image_using_GPU = convolve2d_gpu(deltas_gpu, gauss_gpu)"
   ]
  },
  {
   "cell_type": "code",
   "execution_count": 8,
   "metadata": {},
   "outputs": [
    {
     "data": {
      "text/plain": [
       "array(True)"
      ]
     },
     "execution_count": 8,
     "metadata": {},
     "output_type": "execute_result"
    }
   ],
   "source": [
    "np.allclose(convolved_image_using_GPU, convolved_image_using_CPU)"
   ]
  },
  {
   "cell_type": "code",
   "execution_count": 10,
   "metadata": {},
   "outputs": [
    {
     "name": "stdout",
     "output_type": "stream",
     "text": [
      "34.8 ms ± 0 ns per loop (mean ± std. dev. of 1 run, 7 loops each)\n"
     ]
    }
   ],
   "source": [
    "# 실제 시간은 보내고 다시 돌아오는 시간까지 고려\n",
    "def transfer_compute_transferback():\n",
    "    deltas_gpu = cp.asarray(deltas)\n",
    "    gauss_gpu = cp.asarray(gauss)\n",
    "    convolved_image_using_GPU = convolve2d_gpu(deltas_gpu, gauss_gpu)\n",
    "    convolved_image_using_GPU_copied_to_host = cp.asnumpy(convolved_image_using_GPU)\n",
    "   \n",
    "%timeit -n 7 -r 1 transfer_compute_transferback()"
   ]
  },
  {
   "cell_type": "code",
   "execution_count": 18,
   "metadata": {},
   "outputs": [
    {
     "ename": "TypeError",
     "evalue": "Implicit conversion to a NumPy array is not allowed. Please use `.get()` to construct a NumPy array explicitly.",
     "output_type": "error",
     "traceback": [
      "\u001b[0;31m---------------------------------------------------------------------------\u001b[0m",
      "\u001b[0;31mTypeError\u001b[0m                                 Traceback (most recent call last)",
      "\u001b[1;32m/home/aiteam/tykim/scratch/cupy_numba/cupy.ipynb 셀 11\u001b[0m in \u001b[0;36m<cell line: 1>\u001b[0;34m()\u001b[0m\n\u001b[0;32m----> <a href='vscode-notebook-cell://ssh-remote%2B172.16.100.102/home/aiteam/tykim/scratch/cupy_numba/cupy.ipynb#ch0000010vscode-remote?line=0'>1</a>\u001b[0m convolve2d_cpu(deltas_gpu, gauss_gpu)\n",
      "File \u001b[0;32m~/miniconda3/envs/loader/lib/python3.9/site-packages/scipy/signal/_signaltools.py:1692\u001b[0m, in \u001b[0;36mconvolve2d\u001b[0;34m(in1, in2, mode, boundary, fillvalue)\u001b[0m\n\u001b[1;32m   1618\u001b[0m \u001b[39mdef\u001b[39;00m \u001b[39mconvolve2d\u001b[39m(in1, in2, mode\u001b[39m=\u001b[39m\u001b[39m'\u001b[39m\u001b[39mfull\u001b[39m\u001b[39m'\u001b[39m, boundary\u001b[39m=\u001b[39m\u001b[39m'\u001b[39m\u001b[39mfill\u001b[39m\u001b[39m'\u001b[39m, fillvalue\u001b[39m=\u001b[39m\u001b[39m0\u001b[39m):\n\u001b[1;32m   1619\u001b[0m     \u001b[39m\"\"\"\u001b[39;00m\n\u001b[1;32m   1620\u001b[0m \u001b[39m    Convolve two 2-dimensional arrays.\u001b[39;00m\n\u001b[1;32m   1621\u001b[0m \n\u001b[0;32m   (...)\u001b[0m\n\u001b[1;32m   1690\u001b[0m \n\u001b[1;32m   1691\u001b[0m \u001b[39m    \"\"\"\u001b[39;00m\n\u001b[0;32m-> 1692\u001b[0m     in1 \u001b[39m=\u001b[39m np\u001b[39m.\u001b[39;49masarray(in1)\n\u001b[1;32m   1693\u001b[0m     in2 \u001b[39m=\u001b[39m np\u001b[39m.\u001b[39masarray(in2)\n\u001b[1;32m   1695\u001b[0m     \u001b[39mif\u001b[39;00m \u001b[39mnot\u001b[39;00m in1\u001b[39m.\u001b[39mndim \u001b[39m==\u001b[39m in2\u001b[39m.\u001b[39mndim \u001b[39m==\u001b[39m \u001b[39m2\u001b[39m:\n",
      "File \u001b[0;32mcupy/_core/core.pyx:1397\u001b[0m, in \u001b[0;36mcupy._core.core.ndarray.__array__\u001b[0;34m()\u001b[0m\n",
      "\u001b[0;31mTypeError\u001b[0m: Implicit conversion to a NumPy array is not allowed. Please use `.get()` to construct a NumPy array explicitly."
     ]
    }
   ],
   "source": [
    "convolve2d_cpu(deltas_gpu, gauss_gpu)"
   ]
  },
  {
   "cell_type": "code",
   "execution_count": 19,
   "metadata": {},
   "outputs": [
    {
     "name": "stdout",
     "output_type": "stream",
     "text": [
      "96.4 ms ± 0 ns per loop (mean ± std. dev. of 1 run, 1 loop each)\n"
     ]
    }
   ],
   "source": [
    "deltas_1d = deltas.ravel()\n",
    "gauss_1d = gauss.diagonal()\n",
    "%timeit -n 1 -r 1 np.convolve(deltas_1d, gauss_1d)"
   ]
  },
  {
   "cell_type": "code",
   "execution_count": 20,
   "metadata": {},
   "outputs": [
    {
     "name": "stdout",
     "output_type": "stream",
     "text": [
      "111 ms ± 0 ns per loop (mean ± std. dev. of 1 run, 7 loops each)\n"
     ]
    },
    {
     "ename": "",
     "evalue": "",
     "output_type": "error",
     "traceback": [
      "\u001b[1;31m현재 셀 또는 이전 셀에서 코드를 실행하는 동안 Kernel이 충돌했습니다. 셀의 코드를 검토하여 오류의 가능한 원인을 식별하세요. 자세한 내용을 보려면 <a href='https://aka.ms/vscodeJupyterKernelCrash'> 여기 </a> 를 클릭하세요. 자세한 내용은 Jupyter <a href='command:jupyter.viewOutput'>로그</a>를 참조하세요."
     ]
    }
   ],
   "source": [
    "deltas_1d_gpu = cp.asarray(deltas_1d)\n",
    "gauss_1d_gpu = cp.asarray(gauss_1d)\n",
    "%timeit -n 7 -r 1 np.convolve(deltas_1d_gpu, gauss_1d_gpu)"
   ]
  },
  {
   "cell_type": "code",
   "execution_count": 17,
   "metadata": {},
   "outputs": [
    {
     "ename": "TypeError",
     "evalue": "Unsupported type <class 'numpy.ndarray'>",
     "output_type": "error",
     "traceback": [
      "\u001b[0;31m---------------------------------------------------------------------------\u001b[0m",
      "\u001b[0;31mTypeError\u001b[0m                                 Traceback (most recent call last)",
      "\u001b[1;32m/home/aiteam/tykim/scratch/cupy_numba/cupy.ipynb 셀 14\u001b[0m in \u001b[0;36m<cell line: 1>\u001b[0;34m()\u001b[0m\n\u001b[0;32m----> <a href='vscode-notebook-cell://ssh-remote%2B172.16.100.102/home/aiteam/tykim/scratch/cupy_numba/cupy.ipynb#ch0000014vscode-remote?line=0'>1</a>\u001b[0m ary\u001b[39m.\u001b[39;49mravel() \u001b[39m+\u001b[39;49m b\u001b[39m.\u001b[39;49mravel()\n",
      "File \u001b[0;32mcupy/_core/core.pyx:1191\u001b[0m, in \u001b[0;36mcupy._core.core.ndarray.__add__\u001b[0;34m()\u001b[0m\n",
      "File \u001b[0;32mcupy/_core/core.pyx:1591\u001b[0m, in \u001b[0;36mcupy._core.core.ndarray.__array_ufunc__\u001b[0;34m()\u001b[0m\n",
      "File \u001b[0;32mcupy/_core/_kernel.pyx:1218\u001b[0m, in \u001b[0;36mcupy._core._kernel.ufunc.__call__\u001b[0;34m()\u001b[0m\n",
      "File \u001b[0;32mcupy/_core/_kernel.pyx:138\u001b[0m, in \u001b[0;36mcupy._core._kernel._preprocess_args\u001b[0;34m()\u001b[0m\n",
      "File \u001b[0;32mcupy/_core/_kernel.pyx:124\u001b[0m, in \u001b[0;36mcupy._core._kernel._preprocess_arg\u001b[0;34m()\u001b[0m\n",
      "\u001b[0;31mTypeError\u001b[0m: Unsupported type <class 'numpy.ndarray'>"
     ]
    }
   ],
   "source": [
    "ary.ravel() + b.ravel()"
   ]
  }
 ],
 "metadata": {
  "kernelspec": {
   "display_name": "Python 3.9.13 ('loader')",
   "language": "python",
   "name": "python3"
  },
  "language_info": {
   "codemirror_mode": {
    "name": "ipython",
    "version": 3
   },
   "file_extension": ".py",
   "mimetype": "text/x-python",
   "name": "python",
   "nbconvert_exporter": "python",
   "pygments_lexer": "ipython3",
   "version": "3.9.13"
  },
  "orig_nbformat": 4,
  "vscode": {
   "interpreter": {
    "hash": "a254999b829cf7a75923305dbce36972a67b91fdc16edd342b076b25e04d6382"
   }
  }
 },
 "nbformat": 4,
 "nbformat_minor": 2
}
